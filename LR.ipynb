{
 "cells": [
  {
   "cell_type": "markdown",
   "id": "9dd8ab5e",
   "metadata": {},
   "source": [
    "# Linear Regression Project\n"
   ]
  },
  {
   "cell_type": "markdown",
   "id": "8d008fd7",
   "metadata": {},
   "source": [
    "## Importing data"
   ]
  },
  {
   "cell_type": "code",
   "execution_count": 5,
   "id": "d4069f65",
   "metadata": {},
   "outputs": [],
   "source": [
    "import numpy as np\n",
    "import matplotlib.pyplot as plt\n",
    "\n",
    "points = np.genfromtxt(\"data.csv\", delimiter=',')"
   ]
  },
  {
   "cell_type": "markdown",
   "id": "28696fff",
   "metadata": {},
   "source": [
    "## Plotting the data using matplotlib"
   ]
  },
  {
   "cell_type": "code",
   "execution_count": 6,
   "id": "e5eb53cc",
   "metadata": {},
   "outputs": [
    {
     "data": {
      "image/png": "[encoded data removed]",
      "text/plain": [
       "<Figure size 432x288 with 1 Axes>"
      ]
     },
     "metadata": {
      "needs_background": "light"
     },
     "output_type": "display_data"
    }
   ],
   "source": [
    "fig, ax = plt.subplots() #create a figure and a axes project\n",
    "ax.plot(points[:,0], points[:,1], 'ro')\n",
    "ax.axis([0,100,0,150])\n",
    "ax.set(xlabel=\"Time studied [h]\", ylabel=\"Test score [points]\", title=\"Relationship between test score and time studied\") #titles (tottenham fans would not get it)\n",
    "ax.grid() #show the grid\n",
    "plt.show()"
   ]
  },
  {
   "cell_type": "markdown",
   "id": "099ee268",
   "metadata": {},
   "source": [
    "## Train function"
   ]
  },
  {
   "cell_type": "code",
   "execution_count": 13,
   "id": "2b6954d1",
   "metadata": {},
   "outputs": [],
   "source": [
    "def train() :\n",
    "    #define the Hyperparameters\n",
    "    learning_rate = 0.0001\n",
    "    initial_b = 0\n",
    "    initial_m = 0\n",
    "    num_iterations = 1000\n",
    "    \n",
    "    # Start the gradient descent algorithm\n",
    "    print(\"Starting gradient descent at b = {0}, m = {1}, error = {2}\".format(initial_b, initial_m, compute_error_for_line_given_points(initial_b, initial_m, points)))\n",
    "    print(\"Running...\")\n",
    "    [b,m] = gradient_descent_runner(points, initial_b, initial_m, learning_rate, num_iterations)\n",
    "    print(\"After {0} iterations b = {1}, m = {2}, error = {3}\".format(num_iterations, b, m, compute_error_for_line_given_points(b, m, points)))\n",
    "    \n",
    "    # return the final result to the global scope\n",
    "    return [b,m]"
   ]
  },
  {
   "cell_type": "markdown",
   "id": "cc25b7ff",
   "metadata": {},
   "source": [
    "## Gradient descent function\n"
   ]
  },
  {
   "cell_type": "code",
   "execution_count": 8,
   "id": "82fc1e0b",
   "metadata": {},
   "outputs": [],
   "source": [
    "def gradient_descent_runner(points, starting_b, starting_m, learning_rate, num_iterations) :\n",
    "    b = starting_b\n",
    "    m = starting_m\n",
    "    \n",
    "    for i in range(num_iterations) :\n",
    "        b, m = step_gradient(b, m, np.array(points), learning_rate)\n",
    "        if i%100 == 0 :\n",
    "            print(\"Iteration {0}: b = {1:.2f}, m = {2:.2f}, error = {3:.5f}\".format(i, b, m, compute_error_for_line_given_points(b, m, points)))\n",
    "            \n",
    "    return [b, m]\n",
    "    "
   ]
  },
  {
   "cell_type": "markdown",
   "id": "511a1d11",
   "metadata": {},
   "source": [
    "## Step gradient\n"
   ]
  },
  {
   "cell_type": "markdown",
   "id": "c12696d9",
   "metadata": {},
   "source": [
    "![title](1_3YJx2rdqMW5ccRJZFH9v6w.png)"
   ]
  },
  {
   "cell_type": "code",
   "execution_count": 15,
   "id": "e0fc1092",
   "metadata": {},
   "outputs": [],
   "source": [
    "def step_gradient(b_current, m_current, points, learningRate) :\n",
    "    b_gradient = 0\n",
    "    m_gradient = 0\n",
    "    N = float(len(points))\n",
    "    for i in range(0,len(points)) :\n",
    "        x = points[i, 0]\n",
    "        y = points[i, 1]\n",
    "        m_gradient += -(2/N)*x*( y - ((m_current * x ) + b_current)) #see formula above\n",
    "        b_gradient += -(2/N)*( y -(( m_current * x ) + b_current))\n",
    "    new_b = b_current - (learningRate * b_gradient)\n",
    "    new_m = m_current - (learningRate * m_gradient)\n",
    "    \n",
    "    return [new_b, new_m]"
   ]
  },
  {
   "cell_type": "markdown",
   "id": "6d68c261",
   "metadata": {},
   "source": [
    "## Compute error\n"
   ]
  },
  {
   "cell_type": "code",
   "execution_count": 11,
   "id": "45268e7f",
   "metadata": {},
   "outputs": [],
   "source": [
    "def compute_error_for_line_given_points(b, m, points) :\n",
    "    totalError = 0\n",
    "    for i in range(0, len(points)) : \n",
    "        x = points[i, 0]\n",
    "        y = points[i, 1]\n",
    "        totalError += (y - (m*x + b)) ** 2\n",
    "        \n",
    "    return totalError / float(len(points))"
   ]
  },
  {
   "cell_type": "markdown",
   "id": "0922c736",
   "metadata": {},
   "source": [
    "## Train our model\n"
   ]
  },
  {
   "cell_type": "code",
   "execution_count": 16,
   "id": "ab639942",
   "metadata": {},
   "outputs": [
    {
     "name": "stdout",
     "output_type": "stream",
     "text": [
      "Starting gradient descent at b = 0, m = 0, error = 5565.107834483211\n",
      "Running...\n",
      "Iteration 0: b = 0.01, m = 0.74, error = 1484.58656\n",
      "Iteration 100: b = 0.04, m = 1.48, error = 112.64702\n",
      "Iteration 200: b = 0.04, m = 1.48, error = 112.64342\n",
      "Iteration 300: b = 0.05, m = 1.48, error = 112.63982\n",
      "Iteration 400: b = 0.05, m = 1.48, error = 112.63622\n",
      "Iteration 500: b = 0.06, m = 1.48, error = 112.63263\n",
      "Iteration 600: b = 0.07, m = 1.48, error = 112.62905\n",
      "Iteration 700: b = 0.07, m = 1.48, error = 112.62547\n",
      "Iteration 800: b = 0.08, m = 1.48, error = 112.62190\n",
      "Iteration 900: b = 0.08, m = 1.48, error = 112.61834\n",
      "After 1000 iterations b = 0.08893651993741346, m = 1.4777440851894448, error = 112.61481011613473\n"
     ]
    }
   ],
   "source": [
    "[b, m] = train()"
   ]
  },
  {
   "cell_type": "markdown",
   "id": "db10d0b5",
   "metadata": {},
   "source": [
    "## Testing\n"
   ]
  },
  {
   "cell_type": "code",
   "execution_count": 17,
   "id": "c84df731",
   "metadata": {},
   "outputs": [
    {
     "data": {
      "image/png": "[encoded data removed]",
      "text/plain": [
       "<Figure size 432x288 with 1 Axes>"
      ]
     },
     "metadata": {
      "needs_background": "light"
     },
     "output_type": "display_data"
    }
   ],
   "source": [
    "# sample studied hours\n",
    "h = np.arange(0, 100, 5)\n",
    "\n",
    "# visualize our model\n",
    "fig, ax = plt.subplots()  # creates a figure and an axes object\n",
    "ax.plot(points[:,0], points[:,1], 'ro')\n",
    "ax.plot(h, m*h + b, 'b')\n",
    "ax.axis([0, 100, 0, 150])\n",
    "ax.set(xlabel='Time Studied [h]', ylabel='Test Score [Points]',\n",
    "       title='Relationship between Test Scores and Time Studied')\n",
    "ax.grid()\n",
    "plt.show()"
   ]
  },
  {
   "cell_type": "code",
   "execution_count": null,
   "id": "5d982142",
   "metadata": {},
   "outputs": [],
   "source": []
  }
 ],
 "metadata": {
  "kernelspec": {
   "display_name": "Python 3 (ipykernel)",
   "language": "python",
   "name": "python3"
  },
  "language_info": {
   "codemirror_mode": {
    "name": "ipython",
    "version": 3
   },
   "file_extension": ".py",
   "mimetype": "text/x-python",
   "name": "python",
   "nbconvert_exporter": "python",
   "pygments_lexer": "ipython3",
   "version": "3.9.12"
  }
 },
 "nbformat": 4,
 "nbformat_minor": 5
}
